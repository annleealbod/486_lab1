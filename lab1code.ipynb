{
 "cells": [
  {
   "cell_type": "code",
   "execution_count": 2,
   "metadata": {},
   "outputs": [
    {
     "data": {
      "text/html": [
       "<div>\n",
       "<style scoped>\n",
       "    .dataframe tbody tr th:only-of-type {\n",
       "        vertical-align: middle;\n",
       "    }\n",
       "\n",
       "    .dataframe tbody tr th {\n",
       "        vertical-align: top;\n",
       "    }\n",
       "\n",
       "    .dataframe thead th {\n",
       "        text-align: right;\n",
       "    }\n",
       "</style>\n",
       "<table border=\"1\" class=\"dataframe\">\n",
       "  <thead>\n",
       "    <tr style=\"text-align: right;\">\n",
       "      <th></th>\n",
       "      <th>label</th>\n",
       "      <th>message</th>\n",
       "    </tr>\n",
       "  </thead>\n",
       "  <tbody>\n",
       "    <tr>\n",
       "      <th>0</th>\n",
       "      <td>ham</td>\n",
       "      <td>Go until jurong point, crazy.. Available only ...</td>\n",
       "    </tr>\n",
       "    <tr>\n",
       "      <th>1</th>\n",
       "      <td>ham</td>\n",
       "      <td>Ok lar... Joking wif u oni...</td>\n",
       "    </tr>\n",
       "    <tr>\n",
       "      <th>2</th>\n",
       "      <td>spam</td>\n",
       "      <td>Free entry in 2 a wkly comp to win FA Cup fina...</td>\n",
       "    </tr>\n",
       "    <tr>\n",
       "      <th>3</th>\n",
       "      <td>ham</td>\n",
       "      <td>U dun say so early hor... U c already then say...</td>\n",
       "    </tr>\n",
       "    <tr>\n",
       "      <th>4</th>\n",
       "      <td>ham</td>\n",
       "      <td>Nah I don't think he goes to usf, he lives aro...</td>\n",
       "    </tr>\n",
       "    <tr>\n",
       "      <th>...</th>\n",
       "      <td>...</td>\n",
       "      <td>...</td>\n",
       "    </tr>\n",
       "    <tr>\n",
       "      <th>5567</th>\n",
       "      <td>spam</td>\n",
       "      <td>This is the 2nd time we have tried 2 contact u...</td>\n",
       "    </tr>\n",
       "    <tr>\n",
       "      <th>5568</th>\n",
       "      <td>ham</td>\n",
       "      <td>Will ü b going to esplanade fr home?</td>\n",
       "    </tr>\n",
       "    <tr>\n",
       "      <th>5569</th>\n",
       "      <td>ham</td>\n",
       "      <td>Pity, * was in mood for that. So...any other s...</td>\n",
       "    </tr>\n",
       "    <tr>\n",
       "      <th>5570</th>\n",
       "      <td>ham</td>\n",
       "      <td>The guy did some bitching but I acted like i'd...</td>\n",
       "    </tr>\n",
       "    <tr>\n",
       "      <th>5571</th>\n",
       "      <td>ham</td>\n",
       "      <td>Rofl. Its true to its name</td>\n",
       "    </tr>\n",
       "  </tbody>\n",
       "</table>\n",
       "<p>5572 rows × 2 columns</p>\n",
       "</div>"
      ],
      "text/plain": [
       "     label                                            message\n",
       "0      ham  Go until jurong point, crazy.. Available only ...\n",
       "1      ham                      Ok lar... Joking wif u oni...\n",
       "2     spam  Free entry in 2 a wkly comp to win FA Cup fina...\n",
       "3      ham  U dun say so early hor... U c already then say...\n",
       "4      ham  Nah I don't think he goes to usf, he lives aro...\n",
       "...    ...                                                ...\n",
       "5567  spam  This is the 2nd time we have tried 2 contact u...\n",
       "5568   ham               Will ü b going to esplanade fr home?\n",
       "5569   ham  Pity, * was in mood for that. So...any other s...\n",
       "5570   ham  The guy did some bitching but I acted like i'd...\n",
       "5571   ham                         Rofl. Its true to its name\n",
       "\n",
       "[5572 rows x 2 columns]"
      ]
     },
     "execution_count": 2,
     "metadata": {},
     "output_type": "execute_result"
    }
   ],
   "source": [
    "# Import necessary libraries\n",
    "import pandas as pd\n",
    "from sklearn.model_selection import train_test_split\n",
    "from sklearn.feature_extraction.text import TfidfVectorizer\n",
    "from sklearn.neighbors import KNeighborsClassifier\n",
    "import matplotlib.pyplot as plt\n",
    "\n",
    "# Load the dataset\n",
    "df = pd.read_csv('SMSSpamCollection.txt', sep='\\t', header=None, names=['label', 'message'])\n",
    "\n",
    "df\n"
   ]
  },
  {
   "cell_type": "code",
   "execution_count": 3,
   "metadata": {},
   "outputs": [
    {
     "name": "stdout",
     "output_type": "stream",
     "text": [
      "Data types of all columns:\n",
      "label      object\n",
      "message    object\n",
      "dtype: object\n"
     ]
    }
   ],
   "source": [
    "column_types = df.dtypes\n",
    "\n",
    "print(\"Data types of all columns:\")\n",
    "print(column_types)"
   ]
  },
  {
   "cell_type": "code",
   "execution_count": 4,
   "metadata": {},
   "outputs": [],
   "source": [
    "# Feature engineering\n",
    "df['length_of_message'] = df['message'].apply(len)\n",
    "df['number_of_capital_letters'] = df['message'].apply(lambda x: sum(1 for char in x if char.isupper()))\n",
    "# Add at least one more feature based on your knowledge"
   ]
  },
  {
   "cell_type": "code",
   "execution_count": 5,
   "metadata": {},
   "outputs": [],
   "source": [
    "# Create the feature matrix X\n",
    "X = df[['length_of_message', 'number_of_capital_letters']]  # Add the additional features\n",
    "\n",
    "# Create the target vector y\n",
    "df['label'] = df['label'].map({'spam': 1, 'ham': 0})\n",
    "y = df['label']"
   ]
  },
  {
   "cell_type": "code",
   "execution_count": 6,
   "metadata": {},
   "outputs": [],
   "source": [
    "# Partition the dataset into training and testing sets\n",
    "X_train, X_test, y_train, y_test = train_test_split(X, y, test_size=0.2, random_state=419)"
   ]
  },
  {
   "cell_type": "code",
   "execution_count": 7,
   "metadata": {},
   "outputs": [
    {
     "name": "stdout",
     "output_type": "stream",
     "text": [
      "Default value for k: 5\n",
      "Training accuracy: 0.9488445142472515\n",
      "Testing accuracy: 0.9264573991031391\n"
     ]
    }
   ],
   "source": [
    "# Fit a KNN classifier with default parameters\n",
    "knn_classifier = KNeighborsClassifier()\n",
    "knn_classifier.fit(X_train, y_train)\n",
    "\n",
    "# Get default value for k\n",
    "default_k_value = knn_classifier.n_neighbors\n",
    "\n",
    "# Report accuracy on training and testing sets\n",
    "train_accuracy = knn_classifier.score(X_train, y_train)\n",
    "test_accuracy = knn_classifier.score(X_test, y_test)\n",
    "\n",
    "# Print the results\n",
    "print(f\"Default value for k: {default_k_value}\")\n",
    "print(f\"Training accuracy: {train_accuracy}\")\n",
    "print(f\"Testing accuracy: {test_accuracy}\")"
   ]
  },
  {
   "cell_type": "code",
   "execution_count": 9,
   "metadata": {},
   "outputs": [],
   "source": [
    "# Generate a plot of training and testing errors as functions of k\n",
    "ks = list(range(1, 26, 2))  # Odd values of k from 1 to 25\n",
    "train_error = []\n",
    "test_error = []\n",
    "\n",
    "for k in ks:\n",
    "    knn_classifier = KNeighborsClassifier(n_neighbors=k)\n",
    "    knn_classifier.fit(X_train, y_train)\n",
    "    train_error.append(1 - knn_classifier.score(X_train, y_train))\n",
    "    test_error.append(1 - knn_classifier.score(X_test, y_test))\n"
   ]
  },
  {
   "cell_type": "code",
   "execution_count": 10,
   "metadata": {},
   "outputs": [
    {
     "data": {
      "image/png": "[encoded data removed]",
      "text/plain": [
       "<Figure size 640x480 with 1 Axes>"
      ]
     },
     "metadata": {},
     "output_type": "display_data"
    }
   ],
   "source": [
    "# Plot the errors\n",
    "fig, ax = plt.subplots()\n",
    "ax.plot(ks, train_error, label='train')\n",
    "ax.plot(ks, test_error, label='test')\n",
    "ax.legend()\n",
    "ax.invert_xaxis()\n",
    "plt.xlabel('Number of Neighbors (k)')\n",
    "plt.ylabel('Error')\n",
    "plt.title('Training and Testing Errors vs. Number of Neighbors (k)')\n",
    "plt.show()"
   ]
  },
  {
   "cell_type": "code",
   "execution_count": 11,
   "metadata": {},
   "outputs": [
    {
     "name": "stdout",
     "output_type": "stream",
     "text": [
      "Recommended value for k: 19\n"
     ]
    }
   ],
   "source": [
    "# Find the recommended value for k\n",
    "recommended_k = ks[test_error.index(min(test_error))]\n",
    "print(f\"Recommended value for k: {recommended_k}\")"
   ]
  },
  {
   "cell_type": "code",
   "execution_count": null,
   "metadata": {},
   "outputs": [],
   "source": [
    "# Import necessary libraries\n",
    "import pandas as pd\n",
    "from sklearn.model_selection import cross_val_score, KFold, train_test_split\n",
    "from sklearn.neighbors import KNeighborsRegressor\n",
    "from sklearn.metrics import mean_squared_error\n",
    "import numpy as np\n",
    "import matplotlib.pyplot as plt\n",
    "\n",
    "# Load the dataset\n",
    "url = \"https://raw.githubusercontent.com/esnt/Data/master/CleanData/Brazil%20rents%20sm.csv\"\n",
    "df = pd.read_csv(url)"
   ]
  },
  {
   "cell_type": "code",
   "execution_count": null,
   "metadata": {},
   "outputs": [],
   "source": [
    "# Extract features and target variable\n",
    "X = df.drop('log_rent', axis=1)\n",
    "y = df['log_rent']\n"
   ]
  },
  {
   "cell_type": "code",
   "execution_count": null,
   "metadata": {},
   "outputs": [],
   "source": [
    "# a. Fit a KNN regression model with k = 10\n",
    "knn_regressor = KNeighborsRegressor(n_neighbors=10)\n",
    "knn_regressor.fit(X, y)\n",
    "\n",
    "# Compute training RMSE\n",
    "train_predictions = knn_regressor.predict(X)\n",
    "training_rmse = np.sqrt(mean_squared_error(y, train_predictions))\n",
    "print(f\"Training RMSE: {training_rmse}\")"
   ]
  },
  {
   "cell_type": "code",
   "execution_count": null,
   "metadata": {},
   "outputs": [],
   "source": [
    "# b. 5-fold cross-validation to estimate generalizable RMSE\n",
    "cv_scores_5fold = cross_val_score(knn_regressor, X, y, cv=5, scoring='neg_mean_squared_error')\n",
    "mean_rmse_5fold = np.sqrt(-cv_scores_5fold.mean())\n",
    "print(f\"Mean RMSE (5-fold cross-validation): {mean_rmse_5fold}\")"
   ]
  },
  {
   "cell_type": "code",
   "execution_count": null,
   "metadata": {},
   "outputs": [],
   "source": [
    "# c. Compare different cross-validation techniques\n",
    "fold_sizes = [2, 5, 10, 20, 50]\n",
    "results = []\n",
    "\n",
    "for fold_size in fold_sizes:\n",
    "    cv_scores = cross_val_score(knn_regressor, X, y, cv=fold_size, scoring='neg_mean_squared_error')\n",
    "    mean_rmse = np.sqrt(-cv_scores.mean())\n",
    "    std_rmse = np.sqrt(cv_scores.std())\n",
    "    results.append({'Folds': fold_size, 'Mean RMSE': mean_rmse, 'Std RMSE': std_rmse})\n",
    "\n",
    "# Create a table or plot summarizing the results\n",
    "results_df = pd.DataFrame(results)\n",
    "print(results_df)"
   ]
  },
  {
   "cell_type": "code",
   "execution_count": null,
   "metadata": {},
   "outputs": [],
   "source": [
    "# d. Partition the dataset into a training set and a testing set\n",
    "X_train, X_test, y_train, y_test = train_test_split(X, y, test_size=0.2, random_state=307)\n",
    "\n",
    "# Compute test RMSE for the first random state\n",
    "test_predictions_1 = knn_regressor.predict(X_test)\n",
    "test_rmse_1 = np.sqrt(mean_squared_error(y_test, test_predictions_1))\n",
    "print(f\"Test RMSE (Random State 307): {test_rmse_1}\")"
   ]
  },
  {
   "cell_type": "code",
   "execution_count": null,
   "metadata": {},
   "outputs": [],
   "source": [
    "# e. Repeat part (d) using a different random state\n",
    "X_train, X_test, y_train, y_test = train_test_split(X, y, test_size=0.2, random_state=123)  # Use a different random state\n",
    "test_predictions_2 = knn_regressor.predict(X_test)\n",
    "test_rmse_2 = np.sqrt(mean_squared_error(y_test, test_predictions_2))\n",
    "print(f\"Test RMSE (Different Random State): {test_rmse_2}\")"
   ]
  }
 ],
 "metadata": {
  "kernelspec": {
   "display_name": "Python 3",
   "language": "python",
   "name": "python3"
  },
  "language_info": {
   "codemirror_mode": {
    "name": "ipython",
    "version": 3
   },
   "file_extension": ".py",
   "mimetype": "text/x-python",
   "name": "python",
   "nbconvert_exporter": "python",
   "pygments_lexer": "ipython3",
   "version": "3.11.5"
  }
 },
 "nbformat": 4,
 "nbformat_minor": 2
}
